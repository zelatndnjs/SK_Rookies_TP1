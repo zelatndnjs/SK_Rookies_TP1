{
 "cells": [
  {
   "cell_type": "code",
   "execution_count": 7,
   "id": "cb76d51a",
   "metadata": {},
   "outputs": [],
   "source": [
    "import pandas as pd\n",
    "\n",
    "df = pd.read_csv(\"seoul_ridership.csv\", encoding='cp949')\n",
    "df = df.drop(columns=['06시 이전', '24시 이후'])\n",
    "df.head()\n",
    "df = df.melt(id_vars =['날짜','호선','역번호','역명'],value_vars=['06시-07시','07시-08시','08시-09시','09시-10시','10시-11시','11시-12시','12시-13시','13시-14시','14시-15시','15시-16시','16시-17시','17시-18시','18시-19시','19시-20시','20시-21시','21시-22시', '22시-23시', '23시-24시'], var_name='time', value_name='count').groupby(['날짜','호선','역번호','역명','time']).sum().reset_index()\n",
    "df[['호선','역번호','역명','날짜','time','count']].to_csv('seoul_ridership_melted.csv', index=False, encoding='utf-8')"
   ]
  }
 ],
 "metadata": {
  "kernelspec": {
   "display_name": "WEBSC",
   "language": "python",
   "name": "python3"
  },
  "language_info": {
   "codemirror_mode": {
    "name": "ipython",
    "version": 3
   },
   "file_extension": ".py",
   "mimetype": "text/x-python",
   "name": "python",
   "nbconvert_exporter": "python",
   "pygments_lexer": "ipython3",
   "version": "3.13.2"
  }
 },
 "nbformat": 4,
 "nbformat_minor": 5
}
